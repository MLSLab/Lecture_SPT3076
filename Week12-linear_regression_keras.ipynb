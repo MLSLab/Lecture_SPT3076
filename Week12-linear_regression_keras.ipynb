{
 "cells": [
  {
   "cell_type": "code",
   "execution_count": 1,
   "id": "48e0e5ba",
   "metadata": {},
   "outputs": [
    {
     "name": "stderr",
     "output_type": "stream",
     "text": [
      "/usr/lib/python3/dist-packages/requests/__init__.py:89: RequestsDependencyWarning: urllib3 (1.26.8) or chardet (3.0.4) doesn't match a supported version!\n",
      "  warnings.warn(\"urllib3 ({}) or chardet ({}) doesn't match a supported \"\n"
     ]
    }
   ],
   "source": [
    "# 필요한 라이브러리를 불러옵니다.\n",
    "import numpy as np\n",
    "from tensorflow.keras.models import Sequential\n",
    "from tensorflow.keras.layers import Dense\n",
    "from tensorflow.keras.optimizers import Adam\n",
    "import matplotlib.pyplot as plt\n",
    "%matplotlib inline"
   ]
  },
  {
   "cell_type": "code",
   "execution_count": null,
   "id": "98554d61",
   "metadata": {},
   "outputs": [],
   "source": []
  },
  {
   "cell_type": "code",
   "execution_count": 2,
   "id": "fdade1cb",
   "metadata": {},
   "outputs": [],
   "source": [
    "# x_train 과 y_train 데이터를 정의\n",
    "x_train = np.array([1, 2, 3])\n",
    "y_train = np.array([2+0.1, 4-0.3, 6+0.15])"
   ]
  },
  {
   "cell_type": "code",
   "execution_count": null,
   "id": "4b7fc1be",
   "metadata": {},
   "outputs": [],
   "source": []
  },
  {
   "cell_type": "code",
   "execution_count": 3,
   "id": "063ca584",
   "metadata": {},
   "outputs": [
    {
     "data": {
      "text/plain": [
       "[<matplotlib.lines.Line2D at 0x7f259026a970>]"
      ]
     },
     "execution_count": 3,
     "metadata": {},
     "output_type": "execute_result"
    },
    {
     "data": {
      "image/png": "[encoded data removed]",
      "text/plain": [
       "<Figure size 432x288 with 1 Axes>"
      ]
     },
     "metadata": {
      "needs_background": "light"
     },
     "output_type": "display_data"
    }
   ],
   "source": [
    "plt.figure()\n",
    "plt.plot(x_train, y_train, '.-')"
   ]
  },
  {
   "cell_type": "markdown",
   "id": "109794ba",
   "metadata": {},
   "source": [
    "### linear regression"
   ]
  },
  {
   "cell_type": "code",
   "execution_count": 12,
   "id": "54908e2c",
   "metadata": {},
   "outputs": [],
   "source": [
    "# Sequential 모델을 생성합니다.\n",
    "model = Sequential()\n",
    "\n",
    "# 모델에 Dense Layer를 추가합니다. 여기서는 입력 변수가 1개이므로 input_shape는 1입니다.\n",
    "model.add(Dense(1, input_shape=(1,))) # linear hypothesis\n",
    "\n",
    "# 모델을 컴파일합니다. 이때, 최적화 알고리즘은 Adam, 손실 함수는 mean_squared_error를 사용합니다.\n",
    "model.compile(optimizer=Adam(0.1), loss='mean_squared_error')"
   ]
  },
  {
   "cell_type": "code",
   "execution_count": 13,
   "id": "e8769b0c",
   "metadata": {},
   "outputs": [
    {
     "name": "stdout",
     "output_type": "stream",
     "text": [
      "Model: \"sequential_2\"\n",
      "_________________________________________________________________\n",
      " Layer (type)                Output Shape              Param #   \n",
      "=================================================================\n",
      " dense_2 (Dense)             (None, 1)                 2         \n",
      "                                                                 \n",
      "=================================================================\n",
      "Total params: 2\n",
      "Trainable params: 2\n",
      "Non-trainable params: 0\n",
      "_________________________________________________________________\n"
     ]
    }
   ],
   "source": [
    "model.summary()"
   ]
  },
  {
   "cell_type": "markdown",
   "id": "806464b7",
   "metadata": {},
   "source": [
    "### 학습이 되기전 predict 해보기"
   ]
  },
  {
   "cell_type": "code",
   "execution_count": 19,
   "id": "a6242d7a",
   "metadata": {},
   "outputs": [
    {
     "data": {
      "text/plain": [
       "array([[-1.7829713]], dtype=float32)"
      ]
     },
     "execution_count": 19,
     "metadata": {},
     "output_type": "execute_result"
    }
   ],
   "source": [
    "model.predict([-3])"
   ]
  },
  {
   "cell_type": "code",
   "execution_count": 20,
   "id": "720bf479",
   "metadata": {},
   "outputs": [
    {
     "data": {
      "text/plain": [
       "[array([[0.59432375]], dtype=float32), array([0.], dtype=float32)]"
      ]
     },
     "execution_count": 20,
     "metadata": {},
     "output_type": "execute_result"
    }
   ],
   "source": [
    "model.layers[0].get_weights()"
   ]
  },
  {
   "cell_type": "code",
   "execution_count": 21,
   "id": "b0b5f358",
   "metadata": {
    "scrolled": true
   },
   "outputs": [
    {
     "name": "stdout",
     "output_type": "stream",
     "text": [
      "-1.7829712629318237\n"
     ]
    }
   ],
   "source": [
    "w = model.layers[0].get_weights()[0][0][0]\n",
    "b = model.layers[0].get_weights()[1][0]\n",
    "print(w * -3 + b)"
   ]
  },
  {
   "cell_type": "markdown",
   "id": "4f2c0107",
   "metadata": {},
   "source": [
    "### Training 하기"
   ]
  },
  {
   "cell_type": "code",
   "execution_count": 8,
   "id": "68580ad0",
   "metadata": {},
   "outputs": [
    {
     "data": {
      "text/plain": [
       "<keras.callbacks.History at 0x7f25801347c0>"
      ]
     },
     "execution_count": 8,
     "metadata": {},
     "output_type": "execute_result"
    }
   ],
   "source": [
    "#model.fit(x_train, y_train, epochs=100, batch_size=1, verbose=0)"
   ]
  },
  {
   "cell_type": "code",
   "execution_count": 22,
   "id": "3f10a9ec",
   "metadata": {},
   "outputs": [],
   "source": [
    "# 모델의 초기 가중치와 편향을 저장합니다.\n",
    "weights = []\n",
    "biases = []\n",
    "weights.append(model.layers[0].get_weights()[0][0][0])\n",
    "biases.append(model.layers[0].get_weights()[1][0])\n",
    "\n",
    "# 모델을 학습시킵니다. 이때, epoch은 100, batch_size는 1로 설정합니다.\n",
    "for i in range(100):\n",
    "    model.fit(x_train, y_train, epochs=1, batch_size=1, verbose=0)\n",
    "    weights.append(model.layers[0].get_weights()[0][0][0])\n",
    "    biases.append(model.layers[0].get_weights()[1][0])"
   ]
  },
  {
   "cell_type": "code",
   "execution_count": 23,
   "id": "b254d025",
   "metadata": {},
   "outputs": [
    {
     "data": {
      "text/plain": [
       "array([[-6.1430216]], dtype=float32)"
      ]
     },
     "execution_count": 23,
     "metadata": {},
     "output_type": "execute_result"
    }
   ],
   "source": [
    "model.predict([-3])"
   ]
  },
  {
   "cell_type": "markdown",
   "id": "3e63024a",
   "metadata": {},
   "source": [
    "### Visualization"
   ]
  },
  {
   "cell_type": "code",
   "execution_count": 24,
   "id": "4c24fe49",
   "metadata": {
    "scrolled": true
   },
   "outputs": [
    {
     "data": {
      "image/png": "[encoded data removed]",
      "text/plain": [
       "<Figure size 1080x450 with 2 Axes>"
      ]
     },
     "metadata": {
      "needs_background": "light"
     },
     "output_type": "display_data"
    }
   ],
   "source": [
    "# 모델의 가중치와 편향의 변화를 시각화합니다.\n",
    "plt.figure(figsize=(12, 5), dpi=90)\n",
    "\n",
    "plt.subplot(1, 2, 1)\n",
    "plt.plot(weights)\n",
    "plt.title('Weights')\n",
    "plt.xlabel('epochs')\n",
    "\n",
    "plt.subplot(1, 2, 2)\n",
    "plt.plot(biases)\n",
    "plt.title('Biases')\n",
    "plt.xlabel('epochs')\n",
    "plt.show()"
   ]
  },
  {
   "cell_type": "markdown",
   "id": "57a10a6c",
   "metadata": {},
   "source": [
    "$y=wx+b$"
   ]
  },
  {
   "cell_type": "code",
   "execution_count": 25,
   "id": "615a4a00",
   "metadata": {},
   "outputs": [
    {
     "data": {
      "image/png": "[encoded data removed]",
      "text/plain": [
       "<Figure size 540x450 with 1 Axes>"
      ]
     },
     "metadata": {
      "needs_background": "light"
     },
     "output_type": "display_data"
    }
   ],
   "source": [
    "# 마지막으로 구한 가중치와 편향을 사용해 데이터와 함께 그래프를 그립니다.\n",
    "plt.figure(figsize=(6, 5), dpi=90)\n",
    "plt.scatter(x_train, y_train, color='blue')  # 원본 데이터를 그립니다.\n",
    "plt.plot(x_train, weights[-1]*x_train + biases[-1], color='red')  # 학습된 모델의 예측값을 그립니다.\n",
    "plt.title('Data vs Prediction')\n",
    "plt.show()"
   ]
  },
  {
   "cell_type": "markdown",
   "id": "d99d0827",
   "metadata": {},
   "source": [
    "### 모델의 R-squared 값을 계산"
   ]
  },
  {
   "cell_type": "code",
   "execution_count": 26,
   "id": "63b9766c",
   "metadata": {},
   "outputs": [],
   "source": [
    "# 필요한 라이브러리를 불러옵니다.\n",
    "from sklearn.metrics import r2_score\n",
    "\n",
    "# 모델로부터 예측값을 얻습니다.\n",
    "y_pred = model.predict(x_train) # hypothesis or y_hat\n",
    "\n",
    "# sklearn의 r2_score 함수를 이용하여 R-squared 값을 계산합니다.\n",
    "r_squared = r2_score(y_train, y_pred)\n"
   ]
  },
  {
   "cell_type": "code",
   "execution_count": 27,
   "id": "02e744bb",
   "metadata": {},
   "outputs": [
    {
     "name": "stdout",
     "output_type": "stream",
     "text": [
      "R-squared:  0.9854775497090752\n"
     ]
    }
   ],
   "source": [
    "# R-squared 값을 출력합니다.\n",
    "print('R-squared: ', r_squared)"
   ]
  },
  {
   "cell_type": "code",
   "execution_count": 28,
   "id": "dceaf211",
   "metadata": {},
   "outputs": [
    {
     "data": {
      "image/png": "[encoded data removed]",
      "text/plain": [
       "<Figure size 432x360 with 1 Axes>"
      ]
     },
     "metadata": {
      "needs_background": "light"
     },
     "output_type": "display_data"
    }
   ],
   "source": [
    "# 마지막으로 구한 가중치와 편향을 사용해 데이터와 함께 그래프를 그립니다.\n",
    "plt.figure(figsize=(6, 5))\n",
    "plt.scatter(x_train, y_train, color='blue')  # 원본 데이터를 그립니다.\n",
    "plt.plot(x_train, weights[-1]*x_train + biases[-1], color='red')  # 학습된 모델의 예측값을 그립니다.\n",
    "plt.title('Data vs Prediction')\n",
    "# R-squared 값을 그래프에 표시합니다.\n",
    "plt.text(1.5, 2, 'R-squared = %0.2f' % r_squared, fontsize=12)\n",
    "plt.show()"
   ]
  }
 ],
 "metadata": {
  "kernelspec": {
   "display_name": "Python 3",
   "language": "python",
   "name": "python3"
  },
  "language_info": {
   "codemirror_mode": {
    "name": "ipython",
    "version": 3
   },
   "file_extension": ".py",
   "mimetype": "text/x-python",
   "name": "python",
   "nbconvert_exporter": "python",
   "pygments_lexer": "ipython3",
   "version": "3.8.10"
  }
 },
 "nbformat": 4,
 "nbformat_minor": 5
}
